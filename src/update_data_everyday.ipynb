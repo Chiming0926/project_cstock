{
 "cells": [
  {
   "cell_type": "code",
   "execution_count": 118,
   "metadata": {
    "scrolled": true
   },
   "outputs": [
    {
     "name": "stdout",
     "output_type": "stream",
     "text": [
      "parsing 20190527\n",
      "before http://www.twse.com.tw/exchangeReport/MI_INDEX?response=csv&date=20190527&type=ALL\n",
      "http://www.twse.com.tw/exchangeReport/MI_INDEX?response=csv&date=20190527&type=ALL\n",
      "success!\n"
     ]
    }
   ],
   "source": [
    "import requests\n",
    "from io import StringIO\n",
    "import pandas as pd\n",
    "import numpy as np\n",
    "\n",
    "def crawl_price(date):\n",
    "    print('before http://www.twse.com.tw/exchangeReport/MI_INDEX?response=csv&date=' + str(date).split(' ')[0].replace('-','') + '&type=ALL')\n",
    "    r = requests.post('http://www.twse.com.tw/exchangeReport/MI_INDEX?response=csv&date=' + str(date).split(' ')[0].replace('-','') + '&type=ALL')\n",
    "    print('http://www.twse.com.tw/exchangeReport/MI_INDEX?response=csv&date=' + str(date).split(' ')[0].replace('-','') + '&type=ALL')\n",
    "    ret = pd.read_csv(StringIO(\"\\n\".join([i.translate({ord(c): None for c in ' '}) \n",
    "                                        for i in r.text.split('\\n') \n",
    "                                        if len(i.split('\",')) == 17 and i[0] != '='])), header=0)\n",
    "    ret = ret.set_index('證券代號')\n",
    "    ret['成交金額'] = ret['成交金額'].str.replace(',','')\n",
    "    ret['成交股數'] = ret['成交股數'].str.replace(',','')\n",
    "    return ret\n",
    "\n",
    "import datetime\n",
    "import time\n",
    "\n",
    "#data = {}\n",
    "n_days = 9\n",
    "date = datetime.datetime.now().date()\n",
    "#date = datetime.datetime(2019, 5, 24)\n",
    "fail_count = 0\n",
    "allow_continuous_fail_count = 5\n",
    "while 1:\n",
    "    parsing_date = str(date).split(' ')[0].replace('-','')\n",
    "    print('parsing', parsing_date)\n",
    "    # 使用 crawPrice 爬資料\n",
    "    try:\n",
    "        # 抓資料\n",
    "        data = crawl_price(date)\n",
    "        #data[parsing_date] = crawl_price(date)\n",
    "        print('success!')\n",
    "        fail_count = 0\n",
    "        break\n",
    "    except:\n",
    "        # 假日爬不到\n",
    "        print('fail! check the date is holiday')\n",
    "        fail_count += 1\n",
    "        \n",
    "    if parsing_date == '20190524':\n",
    "        print('88 i want to leave') \n",
    "        break\n",
    "        \n",
    "    date -= datetime.timedelta(days=1)\n",
    "    time.sleep(10)        \n",
    "\n",
    "    "
   ]
  },
  {
   "cell_type": "code",
   "execution_count": 119,
   "metadata": {},
   "outputs": [
    {
     "name": "stderr",
     "output_type": "stream",
     "text": [
      "C:\\Users\\chiming.lin\\AppData\\Local\\Continuum\\anaconda3\\lib\\site-packages\\IPython\\core\\interactiveshell.py:3020: DtypeWarning: Columns (1,4,8,10,12,14,17,19,21,24,26,27,42,43,47,48,57,58,62,63,65,67,68,71,73,75,80,81,83,84,87,92,93,99,102,113,121,124,125,129,132,133,135,140,144,146,154,155,157,169,171,179,181,182,186,189,195,207,210,217,220,226,229,230,231,236,241,244,253,256,261,264,267,270,276,277,279,280,281,288,290,301,308,311,316,319,335,338,354,365,366,368,379,381,398,400,404,405,411,417,422,425,429,431,435,437,439,442,444,447,448,461,464,470,471,476,477,482,487,488,491,494,495,506,520,523,527,533,541,544,546,547,548,550,553,562,564,567,579,582,588,593,608,610,617,618,619,620,623,646,649,656,658,659,660,661,664,665,686,688,694,695,714,715,725,726,735,738,750,765,771,776,781,782,806,813,815,818,819,820,825,828,830,833,836,843,850,853,867,872,874,876,880,887,892,898,900,905,913,922,923,932,934,937,939,948,951,953,954,959,960,963,964,966,967,970,972,975,976,977,980,981,982,983,984,985,986,987,988,989,990,991,992,993,994,995,996,997,998,999,1000,1002,1003,1004,1005,1006,1011,1016,1022,1027,1028,1034,1041) have mixed types. Specify dtype option on import or set low_memory=False.\n",
      "  interactivity=interactivity, compiler=compiler, result=result)\n"
     ]
    }
   ],
   "source": [
    "new_date = datetime.datetime.now().date()\n",
    "data.rename(columns = {'收盤價':new_date},inplace=True)\n",
    "new_closing_price = pd.DataFrame(data, columns=[new_date]).transpose()\n",
    "closing_price = pd.read_csv('data/closing_price.csv', header=0, index_col=0)\n",
    "pd.concat([new_closing_price, closing_price], sort=True).to_csv(\"data/closing_price.csv\")\n",
    "\n",
    "data.rename(columns = {new_date:'收盤價'},inplace=True)\n",
    "data.rename(columns = {'開盤價':new_date},inplace=True)\n",
    "new_opening_price = pd.DataFrame(data, columns=[new_date]).transpose()\n",
    "opening_price = pd.read_csv('data/opening_price.csv', header=0, index_col=0)\n",
    "pd.concat([new_opening_price, opening_price], sort=True).to_csv(\"data/opening_price.csv\")\n",
    "\n",
    "data.rename(columns = {new_date:'開盤價'},inplace=True)\n",
    "data.rename(columns = {'最高價':new_date},inplace=True)\n",
    "new_highest_price = pd.DataFrame(data, columns=[new_date]).transpose()\n",
    "highest_price = pd.read_csv('data/highest_price.csv', header=0, index_col=0)\n",
    "pd.concat([new_highest_price, highest_price], sort=True).to_csv(\"data/highest_price.csv\")\n",
    "\n",
    "data.rename(columns = {new_date:'最高價'},inplace=True)\n",
    "data.rename(columns = {'最低價':new_date},inplace=True)\n",
    "new_lowest_price = pd.DataFrame(data, columns=[new_date]).transpose()\n",
    "lowest_price = pd.read_csv('data/lowest_price.csv', header=0, index_col=0)\n",
    "pd.concat([new_lowest_price, lowest_price], sort=True).to_csv(\"data/lowest_price.csv\")\n",
    "\n",
    "data.rename(columns = {new_date:'最低價'},inplace=True)\n",
    "data.rename(columns = {'成交股數':new_date},inplace=True)\n",
    "new_trade_volume = pd.DataFrame(data, columns=[new_date]).transpose()\n",
    "trade_volume = pd.read_csv('data/trade_volume.csv', header=0, index_col=0)\n",
    "pd.concat([new_trade_volume, trade_volume], sort=True).to_csv(\"data/trade_volume.csv\")\n",
    "\n",
    "data.rename(columns = {new_date:'成交股數'},inplace=True)\n",
    "data.rename(columns = {'成交筆數':new_date},inplace=True)\n",
    "new_transaction = pd.DataFrame(data, columns=[new_date]).transpose()\n",
    "transaction = pd.read_csv('data/transaction.csv', header=0, index_col=0)\n",
    "pd.concat([new_transaction, transaction], sort=True).to_csv(\"data/transaction.csv\")\n",
    "\n",
    "data.rename(columns = {new_date:'成交筆數'},inplace=True)\n",
    "data.rename(columns = {'成交金額':new_date},inplace=True)\n",
    "new_trade_value = pd.DataFrame(data, columns=[new_date]).transpose()\n",
    "trade_value = pd.read_csv('data/trade_value.csv', header=0, index_col=0)\n",
    "pd.concat([new_trade_value, trade_value], sort=True).to_csv(\"data/trade_value.csv\")\n",
    "\n",
    "data.rename(columns = {new_date:'成交金額'},inplace=True)\n",
    "data.rename(columns = {'本益比':new_date},inplace=True)\n",
    "new_per = pd.DataFrame(data, columns=[new_date]).transpose()\n",
    "per = pd.read_csv('data/per.csv', header=0, index_col=0)\n",
    "pd.concat([new_per, per], sort=True).to_csv(\"data/per.csv\")\n",
    "\n",
    " "
   ]
  }
 ],
 "metadata": {
  "kernelspec": {
   "display_name": "Python 3",
   "language": "python",
   "name": "python3"
  },
  "language_info": {
   "codemirror_mode": {
    "name": "ipython",
    "version": 3
   },
   "file_extension": ".py",
   "mimetype": "text/x-python",
   "name": "python",
   "nbconvert_exporter": "python",
   "pygments_lexer": "ipython3",
   "version": "3.7.1"
  }
 },
 "nbformat": 4,
 "nbformat_minor": 2
}
