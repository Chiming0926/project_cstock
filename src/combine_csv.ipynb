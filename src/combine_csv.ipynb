{
 "cells": [
  {
   "cell_type": "code",
   "execution_count": 1,
   "metadata": {
    "scrolled": false
   },
   "outputs": [],
   "source": [
    "import pandas as pd\n",
    "\n",
    "# combine all data\n",
    "df = pd.read_csv('data/closing_price.csv', header=0)\n",
    "df.to_csv('data/final/closing_price.csv', mode='a', index=False, header=0)\n",
    "\n",
    "df = pd.read_csv('data/highest_price.csv', header=0)\n",
    "df.to_csv('data/final/highest_price.csv', mode='a', index=False, header=0)\n",
    "\n",
    "df = pd.read_csv('data/lowest_price.csv', header=0)\n",
    "df.to_csv('data/final/lowest_price.csv', mode='a', index=False, header=0)\n",
    "\n",
    "df = pd.read_csv('data/opening_price.csv', header=0)\n",
    "df.to_csv('data/final/opening_price.csv', mode='a', index=False, header=0)\n",
    "\n",
    "df = pd.read_csv('data/per.csv', header=0)\n",
    "df.to_csv('data/final/per.csv', mode='a', index=False, header=0)\n",
    "\n",
    "df = pd.read_csv('data/trade_value.csv', header=0)\n",
    "df.to_csv('data/final/trade_value.csv', mode='a', index=False, header=0)\n",
    "\n",
    "df = pd.read_csv('data/trade_volume.csv', header=0)\n",
    "df.to_csv('data/final/trade_volume.csv', mode='a', index=False, header=0)\n",
    "\n",
    "df = pd.read_csv('data/transaction.csv', header=0)\n",
    "df.to_csv('data/final/transaction.csv', mode='a', index=False, header=0)"
   ]
  }
 ],
 "metadata": {
  "kernelspec": {
   "display_name": "Python 3",
   "language": "python",
   "name": "python3"
  },
  "language_info": {
   "codemirror_mode": {
    "name": "ipython",
    "version": 3
   },
   "file_extension": ".py",
   "mimetype": "text/x-python",
   "name": "python",
   "nbconvert_exporter": "python",
   "pygments_lexer": "ipython3",
   "version": "3.7.1"
  }
 },
 "nbformat": 4,
 "nbformat_minor": 2
}
